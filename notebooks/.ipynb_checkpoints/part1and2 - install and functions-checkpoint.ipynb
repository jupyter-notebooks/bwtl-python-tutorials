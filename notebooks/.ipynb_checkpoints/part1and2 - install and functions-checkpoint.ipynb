{
 "metadata": {
  "name": "part1and2 - install and functions"
 },
 "nbformat": 3,
 "nbformat_minor": 0,
 "worksheets": [
  {
   "cells": [
    {
     "cell_type": "markdown",
     "metadata": {},
     "source": [
      "# The best way to learn Python, part 1 and 2: Install Anaconda on Linux and Windows\n",
      "\n",
      "After having followed the instructions in http://youtu.be/NwyIuWK80gQ for Linux, and http://youtu.be/oXnnRpTGT2M for Windows, you have a running Anaconda Python installation, and can start up the IPython notebook by doing:\n",
      "\n",
      "    ipython notebook\n",
      "\n",
      "In the rest of this tutorial, I show how to change Python 2.7 `print` behaviour to be Python 3.3-style, after which I define and invoke a function."
     ]
    },
    {
     "cell_type": "code",
     "collapsed": false,
     "input": [
      "# because the IPython Notebook in Anaconda 1.6 does not yet support Python 3.3,\n",
      "# we're going to use Python 2.7. However, everything you learn will be applicable\n",
      "# to both 2.7 and 3.3.\n",
      "\n",
      "# to make the print in 2.7 behave like that in 3.3, we do the following:\n",
      "from __future__ import print_function\n",
      "\n",
      "# now we do Python 3 style:\n",
      "# print(\"Hello world\")\n",
      "# instead of Python 2.7 style:\n",
      "# print \"Hello world\""
     ],
     "language": "python",
     "metadata": {},
     "outputs": [],
     "prompt_number": 1
    },
    {
     "cell_type": "code",
     "collapsed": false,
     "input": [
      "print(\"hello world!\")\n",
      "print(\"I've changed my mind. Goodbye cruel world!\")"
     ],
     "language": "python",
     "metadata": {},
     "outputs": [
      {
       "output_type": "stream",
       "stream": "stdout",
       "text": [
        "hello world!\n",
        "I've changed my mind. Goodbye cruel world!\n"
       ]
      }
     ],
     "prompt_number": 2
    },
    {
     "cell_type": "markdown",
     "metadata": {},
     "source": [
      "# Defining a function\n",
      "\n",
      "We're going to define a function called `hello_world`. We do this with the `def` (for define) keyword."
     ]
    },
    {
     "cell_type": "code",
     "collapsed": false,
     "input": [
      "def hello_world(name):\n",
      "    print(\"Hello world!\")\n",
      "    print(\"Your name is\", name)"
     ],
     "language": "python",
     "metadata": {},
     "outputs": [],
     "prompt_number": 3
    },
    {
     "cell_type": "markdown",
     "metadata": {},
     "source": [
      "# Invoking the function\n",
      "\n",
      "We *invoke* the function via its name (in this case `hello_world`), and we pass any parameters, or function arguments, that are part of the function definition."
     ]
    },
    {
     "cell_type": "code",
     "collapsed": false,
     "input": [
      "hello_world(\"John Smith\")"
     ],
     "language": "python",
     "metadata": {},
     "outputs": [
      {
       "output_type": "stream",
       "stream": "stdout",
       "text": [
        "Hello world!\n",
        "Your name is John Smith\n"
       ]
      }
     ],
     "prompt_number": 4
    },
    {
     "cell_type": "markdown",
     "metadata": {},
     "source": [
      "With the IPython Notebook, you can now go to the cell in which `hello_world` is defined, change the definition and re-execute the cell (Ctrl-Enter), after which you can re-execute the subsequent invocation. You'll see that it uses the redefined code."
     ]
    }
   ],
   "metadata": {}
  }
 ]
}