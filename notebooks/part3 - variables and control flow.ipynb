{
 "metadata": {
  "name": "part3 - variables and control flow"
 },
 "nbformat": 3,
 "nbformat_minor": 0,
 "worksheets": [
  {
   "cells": [
    {
     "cell_type": "code",
     "collapsed": false,
     "input": [
      "from __future__ import print_function"
     ],
     "language": "python",
     "metadata": {},
     "outputs": [],
     "prompt_number": 1
    },
    {
     "cell_type": "markdown",
     "metadata": {},
     "source": [
      "# Plotting a parabola\n",
      "\n",
      "The equation of the parabola is:\n",
      "\n",
      "$y = ax^2 + bx + c$\n",
      "\n",
      "We'll come back to this after having discussed the different variable types and control flow structures."
     ]
    },
    {
     "cell_type": "code",
     "collapsed": false,
     "input": [
      "import pylab\n",
      "\n",
      "x = range(-10,11)\n",
      "\n",
      "y = []\n",
      "\n",
      "a = 2\n",
      "b = 0\n",
      "c = 50\n",
      "\n",
      "for xi in x:\n",
      "    yi = a * xi ** 2 + b * xi + c\n",
      "    y.append(yi)\n",
      "\n",
      "pylab.plot(x,y)\n",
      "\n",
      "grid()\n",
      "xlabel('$x$')\n",
      "ylabel('$y = ax^2 + bx + c$')\n",
      "title('my parabola')\n"
     ],
     "language": "python",
     "metadata": {},
     "outputs": [
      {
       "output_type": "pyout",
       "prompt_number": 21,
       "text": [
        "<matplotlib.text.Text at 0x33d4dd0>"
       ]
      },
      {
       "output_type": "display_data",
       "png": "[encoded data removed]"
      }
     ],
     "prompt_number": 21
    },
    {
     "cell_type": "code",
     "collapsed": false,
     "input": [
      "a = 1\n",
      "a = 0.3\n",
      "a = \"this is a string\"\n",
      "\n",
      "print(\"The value of a is\", a)"
     ],
     "language": "python",
     "metadata": {},
     "outputs": [
      {
       "output_type": "stream",
       "stream": "stdout",
       "text": [
        "('The value of a is', 'this is a string')\n"
       ]
      }
     ],
     "prompt_number": 22
    },
    {
     "cell_type": "code",
     "collapsed": false,
     "input": [
      "# integer division\n",
      "a = 4 / 3\n",
      "\n",
      "# floating point division\n",
      "#a = 4.0 / 3\n",
      "\n",
      "print(\"The value of a is\", a)"
     ],
     "language": "python",
     "metadata": {},
     "outputs": [
      {
       "output_type": "stream",
       "stream": "stdout",
       "text": [
        "('The value of a is', 1)\n"
       ]
      }
     ],
     "prompt_number": 23
    },
    {
     "cell_type": "code",
     "collapsed": false,
     "input": [
      "a = [1, 2, \"cats are not nice\", 0.3]\n",
      "\n",
      "# lists are mutable: we can change their elements\n",
      "a[1] = \"another string\"\n",
      "\n",
      "print(a)"
     ],
     "language": "python",
     "metadata": {},
     "outputs": [
      {
       "output_type": "stream",
       "stream": "stdout",
       "text": [
        "[1, 'another string', 'cats are not nice', 0.3]\n"
       ]
      }
     ],
     "prompt_number": 24
    },
    {
     "cell_type": "code",
     "collapsed": false,
     "input": [
      "b = (1, 2, 3, 'hello there')\n",
      "\n",
      "# tuples are not mutable, so this will raise an exception\n",
      "# (but unlike lists they are hashable, which is often useful)\n",
      "b[1] = 'aoeu'\n",
      "\n",
      "print(b)"
     ],
     "language": "python",
     "metadata": {},
     "outputs": [
      {
       "ename": "TypeError",
       "evalue": "'tuple' object does not support item assignment",
       "output_type": "pyerr",
       "traceback": [
        "\u001b[1;31m---------------------------------------------------------------------------\u001b[0m\n\u001b[1;31mTypeError\u001b[0m                                 Traceback (most recent call last)",
        "\u001b[1;32m<ipython-input-17-67f75938c7c8>\u001b[0m in \u001b[0;36m<module>\u001b[1;34m()\u001b[0m\n\u001b[0;32m      3\u001b[0m \u001b[1;31m# tuples are not mutable, so this will raise an exception\u001b[0m\u001b[1;33m\u001b[0m\u001b[1;33m\u001b[0m\u001b[0m\n\u001b[0;32m      4\u001b[0m \u001b[1;31m# (but unlike lists they are hashable, which is often useful)\u001b[0m\u001b[1;33m\u001b[0m\u001b[1;33m\u001b[0m\u001b[0m\n\u001b[1;32m----> 5\u001b[1;33m \u001b[0mb\u001b[0m\u001b[1;33m[\u001b[0m\u001b[1;36m1\u001b[0m\u001b[1;33m]\u001b[0m \u001b[1;33m=\u001b[0m \u001b[1;34m'aoeu'\u001b[0m\u001b[1;33m\u001b[0m\u001b[0m\n\u001b[0m\u001b[0;32m      6\u001b[0m \u001b[1;33m\u001b[0m\u001b[0m\n\u001b[0;32m      7\u001b[0m \u001b[1;32mprint\u001b[0m\u001b[1;33m(\u001b[0m\u001b[0mb\u001b[0m\u001b[1;33m)\u001b[0m\u001b[1;33m\u001b[0m\u001b[0m\n",
        "\u001b[1;31mTypeError\u001b[0m: 'tuple' object does not support item assignment"
       ]
      }
     ],
     "prompt_number": 17
    },
    {
     "cell_type": "code",
     "collapsed": false,
     "input": [
      "for i in a:\n",
      "    print(i)\n",
      "    print(\"hello there\")\n",
      "print(\"after the loop\")\n"
     ],
     "language": "python",
     "metadata": {},
     "outputs": [
      {
       "output_type": "stream",
       "stream": "stdout",
       "text": [
        "1\n",
        "hello there\n",
        "another string\n",
        "hello there\n",
        "cats are not nice\n",
        "hello there\n",
        "0.3\n",
        "hello there\n",
        "after the loop\n"
       ]
      }
     ],
     "prompt_number": 18
    },
    {
     "cell_type": "code",
     "collapsed": false,
     "input": [
      "# a simple integer loop\n",
      "# Python always stops right before the stop number\n",
      "# in this case it will go from 0 to 9.\n",
      "for i in range(10):\n",
      "    print(i)\n"
     ],
     "language": "python",
     "metadata": {},
     "outputs": [
      {
       "output_type": "stream",
       "stream": "stdout",
       "text": [
        "0\n",
        "1\n",
        "2\n",
        "3\n",
        "4\n",
        "5\n",
        "6\n",
        "7\n",
        "8\n",
        "9\n"
       ]
      }
     ],
     "prompt_number": 17
    },
    {
     "cell_type": "code",
     "collapsed": false,
     "input": [
      "# reverse for loop with if-elif-else clause\n",
      "for i in range(10, 0, -1):\n",
      "    if i == 7:\n",
      "        print(\"that's my lucky number, I'm not going to tell you what it is!\")\n",
      "        \n",
      "    elif i == 5:\n",
      "        print(\"that's not a bad number either\")\n",
      "        \n",
      "    else:\n",
      "        print(i)\n"
     ],
     "language": "python",
     "metadata": {},
     "outputs": [
      {
       "output_type": "stream",
       "stream": "stdout",
       "text": [
        "10\n",
        "9\n",
        "8\n",
        "that's my lucky number, I'm not going to tell you what it is!\n",
        "6\n",
        "that's not a bad number either\n",
        "4\n",
        "3\n",
        "2\n",
        "1\n"
       ]
      }
     ],
     "prompt_number": 19
    },
    {
     "cell_type": "code",
     "collapsed": false,
     "input": [
      "# the all-powerful dictionary\n",
      "# it maps from any hashable object (string, integer, list, object) to any value\n",
      "# it's really really fast: O(1) lookups.\n",
      "e = {'cat': 0, 'dog': 1, 'giraffe': 2}\n",
      "\n",
      "e['dog']\n"
     ],
     "language": "python",
     "metadata": {},
     "outputs": [
      {
       "output_type": "pyout",
       "prompt_number": 20,
       "text": [
        "1"
       ]
      }
     ],
     "prompt_number": 20
    },
    {
     "cell_type": "code",
     "collapsed": false,
     "input": [
      "# this is how you \"allocate\" a list with 3 elements\n",
      "z = [0] * 3\n",
      "z[1] = 2\n",
      "z"
     ],
     "language": "python",
     "metadata": {},
     "outputs": [
      {
       "output_type": "pyout",
       "prompt_number": 4,
       "text": [
        "[0, 2, 0]"
       ]
      }
     ],
     "prompt_number": 4
    }
   ],
   "metadata": {}
  }
 ]
}